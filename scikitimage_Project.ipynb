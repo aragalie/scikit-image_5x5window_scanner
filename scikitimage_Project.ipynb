{
 "cells": [
  {
   "cell_type": "markdown",
   "metadata": {
    "toc": true
   },
   "source": [
    "<h1>Table of Contents<span class=\"tocSkip\"></span></h1>\n",
    "<div class=\"toc\"><ul class=\"toc-item\"><li><span><a href=\"#Python-Image-Processing-with-scikit-image\" data-toc-modified-id=\"Python-Image-Processing-with-scikit-image-1\"><span class=\"toc-item-num\">1&nbsp;&nbsp;</span>Python Image Processing with scikit-image</a></span><ul class=\"toc-item\"><li><ul class=\"toc-item\"><li><span><a href=\"#OBJECTIVE\" data-toc-modified-id=\"OBJECTIVE-1.0.1\"><span class=\"toc-item-num\">1.0.1&nbsp;&nbsp;</span>OBJECTIVE</a></span></li><li><span><a href=\"#EXPECTED-OUTPUT\" data-toc-modified-id=\"EXPECTED-OUTPUT-1.0.2\"><span class=\"toc-item-num\">1.0.2&nbsp;&nbsp;</span>EXPECTED OUTPUT</a></span></li></ul></li><li><span><a href=\"#Test-that-the-algorithm-works\" data-toc-modified-id=\"Test-that-the-algorithm-works-1.1\"><span class=\"toc-item-num\">1.1&nbsp;&nbsp;</span>Test that the algorithm works</a></span><ul class=\"toc-item\"><li><span><a href=\"#Set-each-alternate-pixel-to-black/white\" data-toc-modified-id=\"Set-each-alternate-pixel-to-black/white-1.1.1\"><span class=\"toc-item-num\">1.1.1&nbsp;&nbsp;</span>Set each alternate pixel to black/white</a></span></li><li><span><a href=\"#Check-the-result\" data-toc-modified-id=\"Check-the-result-1.1.2\"><span class=\"toc-item-num\">1.1.2&nbsp;&nbsp;</span>Check the result</a></span></li><li><span><a href=\"#Scan-with-the-5x5-window-and-output-to-.csv\" data-toc-modified-id=\"Scan-with-the-5x5-window-and-output-to-.csv-1.1.3\"><span class=\"toc-item-num\">1.1.3&nbsp;&nbsp;</span>Scan with the 5x5 window and output to .csv</a></span></li></ul></li><li><span><a href=\"#Import-an-actual-720x480-image-and-process-it;-img2.jpg-can-be-used-as-well\" data-toc-modified-id=\"Import-an-actual-720x480-image-and-process-it;-img2.jpg-can-be-used-as-well-1.2\"><span class=\"toc-item-num\">1.2&nbsp;&nbsp;</span>Import an actual 720x480 image and process it; img2.jpg can be used as well</a></span></li></ul></li></ul></div>"
   ]
  },
  {
   "cell_type": "markdown",
   "metadata": {},
   "source": [
    "# Python Image Processing with scikit-image"
   ]
  },
  {
   "cell_type": "markdown",
   "metadata": {},
   "source": [
    "\n",
    "    File name: scikitimage_Project.ipynb\n",
    "    Author: Alex Ragalie - aragalie.com\n",
    "    Date created:       23 March 2018\n",
    "    Date last modified: 23 March 2018\n",
    "    Python Version: 3.6\n",
    "\n",
    "### OBJECTIVE\n",
    "\n",
    "The task is to use a 5x5 window to scan over a greyscaled image, where a pixel value is a float in the range 0 to 1.\n",
    "\n",
    "The values have to be normalised so that within one window the smallest value is scaled to 0 and the largest to 1.\n",
    "\n",
    "scikit-image must be used.\n",
    "\n",
    "\n",
    "### EXPECTED OUTPUT\n",
    "\n",
    "Export data to .csv, in a table with 25 columns and 13,824 rows.\n"
   ]
  },
  {
   "cell_type": "code",
   "execution_count": 120,
   "metadata": {
    "ExecuteTime": {
     "end_time": "2018-03-23T20:19:37.734294Z",
     "start_time": "2018-03-23T20:19:37.699425Z"
    },
    "collapsed": true
   },
   "outputs": [],
   "source": [
    "import os\n",
    "import pandas as pd\n",
    "import matplotlib.pyplot as plt\n",
    "\n",
    "# JupyterNB dark theme plotting made visible\n",
    "plt.style.use(['dark_background'])\n",
    "\n",
    "from skimage.color import rgb2gray\n",
    "from skimage import io\n",
    "\n",
    "%reload_ext autoreload\n",
    "%autoreload 2\n",
    "%matplotlib inline"
   ]
  },
  {
   "cell_type": "code",
   "execution_count": 121,
   "metadata": {
    "ExecuteTime": {
     "end_time": "2018-03-23T20:19:38.685477Z",
     "start_time": "2018-03-23T20:19:38.658166Z"
    },
    "collapsed": true
   },
   "outputs": [],
   "source": [
    "# Set the working directory >>>> change this to your own\n",
    "os.chdir(\"/home/alex/DL/upwork/scikitimage_project/\")"
   ]
  },
  {
   "cell_type": "markdown",
   "metadata": {},
   "source": [
    "## Test that the algorithm works\n"
   ]
  },
  {
   "cell_type": "code",
   "execution_count": 122,
   "metadata": {
    "ExecuteTime": {
     "end_time": "2018-03-23T20:19:40.356894Z",
     "start_time": "2018-03-23T20:19:40.328323Z"
    }
   },
   "outputs": [],
   "source": [
    "# Load a 10x10px image\n",
    "filename = 'img3.jpg'\n",
    "img_test = io.imread(filename)"
   ]
  },
  {
   "cell_type": "code",
   "execution_count": 123,
   "metadata": {
    "ExecuteTime": {
     "end_time": "2018-03-23T20:19:40.918067Z",
     "start_time": "2018-03-23T20:19:40.888987Z"
    }
   },
   "outputs": [
    {
     "data": {
      "text/plain": [
       "(10, 10, 3)"
      ]
     },
     "execution_count": 123,
     "metadata": {},
     "output_type": "execute_result"
    }
   ],
   "source": [
    "# Check the shape and RGB channels (10,10,3)\n",
    "img_test.shape"
   ]
  },
  {
   "cell_type": "code",
   "execution_count": 124,
   "metadata": {
    "ExecuteTime": {
     "end_time": "2018-03-23T20:19:41.540008Z",
     "start_time": "2018-03-23T20:19:41.511658Z"
    },
    "collapsed": true
   },
   "outputs": [],
   "source": [
    "# Convert the image to greyscale\n",
    "img = rgb2gray(img_test)"
   ]
  },
  {
   "cell_type": "code",
   "execution_count": 125,
   "metadata": {
    "ExecuteTime": {
     "end_time": "2018-03-23T20:19:42.335932Z",
     "start_time": "2018-03-23T20:19:42.308732Z"
    }
   },
   "outputs": [
    {
     "data": {
      "text/plain": [
       "(10, 10)"
      ]
     },
     "execution_count": 125,
     "metadata": {},
     "output_type": "execute_result"
    }
   ],
   "source": [
    "# Check the shape again and confirm no RGB channels (10,10)\n",
    "img.shape"
   ]
  },
  {
   "cell_type": "markdown",
   "metadata": {
    "ExecuteTime": {
     "end_time": "2018-03-23T19:07:17.129192Z",
     "start_time": "2018-03-23T19:07:17.124284Z"
    }
   },
   "source": [
    "### Set each alternate pixel to black/white"
   ]
  },
  {
   "cell_type": "code",
   "execution_count": 126,
   "metadata": {
    "ExecuteTime": {
     "end_time": "2018-03-23T20:19:43.961982Z",
     "start_time": "2018-03-23T20:19:43.929076Z"
    }
   },
   "outputs": [],
   "source": [
    "# Set each alternate pixel to black/white\n",
    "i = 1\n",
    "for col in range(10):\n",
    "    i += 1\n",
    "    for row in range(10):\n",
    "        if i % 2 == 0:\n",
    "            img[row, col] = 0\n",
    "            i += 1\n",
    "        else:\n",
    "            img[row, col] = 1\n",
    "            i += 1\n",
    "# Save the test file to disk\n",
    "plt.imsave('test.png', img, cmap = plt.cm.gray)"
   ]
  },
  {
   "cell_type": "markdown",
   "metadata": {},
   "source": [
    "### Check the result"
   ]
  },
  {
   "cell_type": "code",
   "execution_count": 127,
   "metadata": {
    "ExecuteTime": {
     "end_time": "2018-03-23T20:19:45.714725Z",
     "start_time": "2018-03-23T20:19:45.625922Z"
    }
   },
   "outputs": [
    {
     "data": {
      "text/plain": [
       "<matplotlib.image.AxesImage at 0x7f12139003c8>"
      ]
     },
     "execution_count": 127,
     "metadata": {},
     "output_type": "execute_result"
    },
    {
     "data": {
      "image/png": "[encoded data removed]",
      "text/plain": [
       "<matplotlib.figure.Figure at 0x7f12139524a8>"
      ]
     },
     "metadata": {},
     "output_type": "display_data"
    }
   ],
   "source": [
    "plt.imshow(img)"
   ]
  },
  {
   "cell_type": "markdown",
   "metadata": {},
   "source": [
    "### Scan with the 5x5 window and output to .csv"
   ]
  },
  {
   "cell_type": "code",
   "execution_count": 128,
   "metadata": {
    "ExecuteTime": {
     "end_time": "2018-03-23T20:19:48.708514Z",
     "start_time": "2018-03-23T20:19:48.678576Z"
    },
    "collapsed": true
   },
   "outputs": [],
   "source": [
    "# Create a list with all the column names\n",
    "col_names_coordinate = []\n",
    "i = 0 \n",
    "while i < 5:\n",
    "    for x in range(5):\n",
    "        col_names_coordinate.append((i, x))\n",
    "    i += 1"
   ]
  },
  {
   "cell_type": "code",
   "execution_count": 129,
   "metadata": {
    "ExecuteTime": {
     "end_time": "2018-03-23T20:19:50.532694Z",
     "start_time": "2018-03-23T20:19:50.496184Z"
    }
   },
   "outputs": [
    {
     "data": {
      "text/html": [
       "<div>\n",
       "<style>\n",
       "    .dataframe thead tr:only-child th {\n",
       "        text-align: right;\n",
       "    }\n",
       "\n",
       "    .dataframe thead th {\n",
       "        text-align: left;\n",
       "    }\n",
       "\n",
       "    .dataframe tbody tr th {\n",
       "        vertical-align: top;\n",
       "    }\n",
       "</style>\n",
       "<table border=\"1\" class=\"dataframe\">\n",
       "  <thead>\n",
       "    <tr style=\"text-align: right;\">\n",
       "      <th></th>\n",
       "      <th>(0, 0)</th>\n",
       "      <th>(0, 1)</th>\n",
       "      <th>(0, 2)</th>\n",
       "      <th>(0, 3)</th>\n",
       "      <th>(0, 4)</th>\n",
       "      <th>(1, 0)</th>\n",
       "      <th>(1, 1)</th>\n",
       "      <th>(1, 2)</th>\n",
       "      <th>(1, 3)</th>\n",
       "      <th>(1, 4)</th>\n",
       "      <th>...</th>\n",
       "      <th>(3, 0)</th>\n",
       "      <th>(3, 1)</th>\n",
       "      <th>(3, 2)</th>\n",
       "      <th>(3, 3)</th>\n",
       "      <th>(3, 4)</th>\n",
       "      <th>(4, 0)</th>\n",
       "      <th>(4, 1)</th>\n",
       "      <th>(4, 2)</th>\n",
       "      <th>(4, 3)</th>\n",
       "      <th>(4, 4)</th>\n",
       "    </tr>\n",
       "  </thead>\n",
       "  <tbody>\n",
       "  </tbody>\n",
       "</table>\n",
       "<p>0 rows × 25 columns</p>\n",
       "</div>"
      ],
      "text/plain": [
       "Empty DataFrame\n",
       "Columns: [(0, 0), (0, 1), (0, 2), (0, 3), (0, 4), (1, 0), (1, 1), (1, 2), (1, 3), (1, 4), (2, 0), (2, 1), (2, 2), (2, 3), (2, 4), (3, 0), (3, 1), (3, 2), (3, 3), (3, 4), (4, 0), (4, 1), (4, 2), (4, 3), (4, 4)]\n",
       "Index: []\n",
       "\n",
       "[0 rows x 25 columns]"
      ]
     },
     "execution_count": 129,
     "metadata": {},
     "output_type": "execute_result"
    }
   ],
   "source": [
    "# Create a DataFrame to hold the output\n",
    "df = pd.DataFrame(columns=col_names_coordinate)\n",
    "df"
   ]
  },
  {
   "cell_type": "code",
   "execution_count": 130,
   "metadata": {
    "ExecuteTime": {
     "end_time": "2018-03-23T20:19:54.761071Z",
     "start_time": "2018-03-23T20:19:54.723145Z"
    },
    "collapsed": true
   },
   "outputs": [],
   "source": [
    "# Save all pixel values in the DataFrame based on the position of the 5x5 window\n",
    "df_row_number = 0\n",
    "for x in range(0, img.shape[0], 5):\n",
    "    for y in range(0, img.shape[1], 5):\n",
    "        top_left = (x, y)\n",
    "        bottom_right = (x+4, y+4)\n",
    "        new_row = []\n",
    "        for window_h in range(x, x+5):\n",
    "            for window_w in range(y, y+5):\n",
    "                new_row.append(img[window_h, window_w])\n",
    "        df.loc[df_row_number] = new_row\n",
    "        df_row_number += 1"
   ]
  },
  {
   "cell_type": "code",
   "execution_count": 131,
   "metadata": {
    "ExecuteTime": {
     "end_time": "2018-03-23T20:19:56.226770Z",
     "start_time": "2018-03-23T20:19:56.182139Z"
    }
   },
   "outputs": [
    {
     "data": {
      "text/html": [
       "<div>\n",
       "<style>\n",
       "    .dataframe thead tr:only-child th {\n",
       "        text-align: right;\n",
       "    }\n",
       "\n",
       "    .dataframe thead th {\n",
       "        text-align: left;\n",
       "    }\n",
       "\n",
       "    .dataframe tbody tr th {\n",
       "        vertical-align: top;\n",
       "    }\n",
       "</style>\n",
       "<table border=\"1\" class=\"dataframe\">\n",
       "  <thead>\n",
       "    <tr style=\"text-align: right;\">\n",
       "      <th></th>\n",
       "      <th>(0, 0)</th>\n",
       "      <th>(0, 1)</th>\n",
       "      <th>(0, 2)</th>\n",
       "      <th>(0, 3)</th>\n",
       "      <th>(0, 4)</th>\n",
       "      <th>(1, 0)</th>\n",
       "      <th>(1, 1)</th>\n",
       "      <th>(1, 2)</th>\n",
       "      <th>(1, 3)</th>\n",
       "      <th>(1, 4)</th>\n",
       "      <th>...</th>\n",
       "      <th>(3, 0)</th>\n",
       "      <th>(3, 1)</th>\n",
       "      <th>(3, 2)</th>\n",
       "      <th>(3, 3)</th>\n",
       "      <th>(3, 4)</th>\n",
       "      <th>(4, 0)</th>\n",
       "      <th>(4, 1)</th>\n",
       "      <th>(4, 2)</th>\n",
       "      <th>(4, 3)</th>\n",
       "      <th>(4, 4)</th>\n",
       "    </tr>\n",
       "  </thead>\n",
       "  <tbody>\n",
       "    <tr>\n",
       "      <th>0</th>\n",
       "      <td>0.0</td>\n",
       "      <td>1.0</td>\n",
       "      <td>0.0</td>\n",
       "      <td>1.0</td>\n",
       "      <td>0.0</td>\n",
       "      <td>1.0</td>\n",
       "      <td>0.0</td>\n",
       "      <td>1.0</td>\n",
       "      <td>0.0</td>\n",
       "      <td>1.0</td>\n",
       "      <td>...</td>\n",
       "      <td>1.0</td>\n",
       "      <td>0.0</td>\n",
       "      <td>1.0</td>\n",
       "      <td>0.0</td>\n",
       "      <td>1.0</td>\n",
       "      <td>0.0</td>\n",
       "      <td>1.0</td>\n",
       "      <td>0.0</td>\n",
       "      <td>1.0</td>\n",
       "      <td>0.0</td>\n",
       "    </tr>\n",
       "    <tr>\n",
       "      <th>1</th>\n",
       "      <td>1.0</td>\n",
       "      <td>0.0</td>\n",
       "      <td>1.0</td>\n",
       "      <td>0.0</td>\n",
       "      <td>1.0</td>\n",
       "      <td>0.0</td>\n",
       "      <td>1.0</td>\n",
       "      <td>0.0</td>\n",
       "      <td>1.0</td>\n",
       "      <td>0.0</td>\n",
       "      <td>...</td>\n",
       "      <td>0.0</td>\n",
       "      <td>1.0</td>\n",
       "      <td>0.0</td>\n",
       "      <td>1.0</td>\n",
       "      <td>0.0</td>\n",
       "      <td>1.0</td>\n",
       "      <td>0.0</td>\n",
       "      <td>1.0</td>\n",
       "      <td>0.0</td>\n",
       "      <td>1.0</td>\n",
       "    </tr>\n",
       "    <tr>\n",
       "      <th>2</th>\n",
       "      <td>1.0</td>\n",
       "      <td>0.0</td>\n",
       "      <td>1.0</td>\n",
       "      <td>0.0</td>\n",
       "      <td>1.0</td>\n",
       "      <td>0.0</td>\n",
       "      <td>1.0</td>\n",
       "      <td>0.0</td>\n",
       "      <td>1.0</td>\n",
       "      <td>0.0</td>\n",
       "      <td>...</td>\n",
       "      <td>0.0</td>\n",
       "      <td>1.0</td>\n",
       "      <td>0.0</td>\n",
       "      <td>1.0</td>\n",
       "      <td>0.0</td>\n",
       "      <td>1.0</td>\n",
       "      <td>0.0</td>\n",
       "      <td>1.0</td>\n",
       "      <td>0.0</td>\n",
       "      <td>1.0</td>\n",
       "    </tr>\n",
       "    <tr>\n",
       "      <th>3</th>\n",
       "      <td>0.0</td>\n",
       "      <td>1.0</td>\n",
       "      <td>0.0</td>\n",
       "      <td>1.0</td>\n",
       "      <td>0.0</td>\n",
       "      <td>1.0</td>\n",
       "      <td>0.0</td>\n",
       "      <td>1.0</td>\n",
       "      <td>0.0</td>\n",
       "      <td>1.0</td>\n",
       "      <td>...</td>\n",
       "      <td>1.0</td>\n",
       "      <td>0.0</td>\n",
       "      <td>1.0</td>\n",
       "      <td>0.0</td>\n",
       "      <td>1.0</td>\n",
       "      <td>0.0</td>\n",
       "      <td>1.0</td>\n",
       "      <td>0.0</td>\n",
       "      <td>1.0</td>\n",
       "      <td>0.0</td>\n",
       "    </tr>\n",
       "  </tbody>\n",
       "</table>\n",
       "<p>4 rows × 25 columns</p>\n",
       "</div>"
      ],
      "text/plain": [
       "   (0, 0)  (0, 1)  (0, 2)  (0, 3)  (0, 4)  (1, 0)  (1, 1)  (1, 2)  (1, 3)  \\\n",
       "0     0.0     1.0     0.0     1.0     0.0     1.0     0.0     1.0     0.0   \n",
       "1     1.0     0.0     1.0     0.0     1.0     0.0     1.0     0.0     1.0   \n",
       "2     1.0     0.0     1.0     0.0     1.0     0.0     1.0     0.0     1.0   \n",
       "3     0.0     1.0     0.0     1.0     0.0     1.0     0.0     1.0     0.0   \n",
       "\n",
       "   (1, 4)   ...    (3, 0)  (3, 1)  (3, 2)  (3, 3)  (3, 4)  (4, 0)  (4, 1)  \\\n",
       "0     1.0   ...       1.0     0.0     1.0     0.0     1.0     0.0     1.0   \n",
       "1     0.0   ...       0.0     1.0     0.0     1.0     0.0     1.0     0.0   \n",
       "2     0.0   ...       0.0     1.0     0.0     1.0     0.0     1.0     0.0   \n",
       "3     1.0   ...       1.0     0.0     1.0     0.0     1.0     0.0     1.0   \n",
       "\n",
       "   (4, 2)  (4, 3)  (4, 4)  \n",
       "0     0.0     1.0     0.0  \n",
       "1     1.0     0.0     1.0  \n",
       "2     1.0     0.0     1.0  \n",
       "3     0.0     1.0     0.0  \n",
       "\n",
       "[4 rows x 25 columns]"
      ]
     },
     "execution_count": 131,
     "metadata": {},
     "output_type": "execute_result"
    }
   ],
   "source": [
    "# Check the dataframe\n",
    "df"
   ]
  },
  {
   "cell_type": "code",
   "execution_count": 132,
   "metadata": {
    "ExecuteTime": {
     "end_time": "2018-03-23T20:20:00.609561Z",
     "start_time": "2018-03-23T20:20:00.581949Z"
    },
    "collapsed": true
   },
   "outputs": [],
   "source": [
    "# Output the Dataframe to csv\n",
    "df.to_csv('output_test.csv')"
   ]
  },
  {
   "cell_type": "markdown",
   "metadata": {},
   "source": [
    "## Import an actual 720x480 image and process it; img2.jpg can be used as well"
   ]
  },
  {
   "cell_type": "code",
   "execution_count": 133,
   "metadata": {
    "ExecuteTime": {
     "end_time": "2018-03-23T20:20:02.773312Z",
     "start_time": "2018-03-23T20:20:02.738680Z"
    },
    "collapsed": true
   },
   "outputs": [],
   "source": [
    "filename = 'img1.jpg'\n",
    "img_rgb = io.imread(filename)"
   ]
  },
  {
   "cell_type": "code",
   "execution_count": 134,
   "metadata": {
    "ExecuteTime": {
     "end_time": "2018-03-23T20:20:03.818260Z",
     "start_time": "2018-03-23T20:20:03.790718Z"
    }
   },
   "outputs": [
    {
     "data": {
      "text/plain": [
       "(480, 720, 3)"
      ]
     },
     "execution_count": 134,
     "metadata": {},
     "output_type": "execute_result"
    }
   ],
   "source": [
    "# Check the shape and RGB channels (480,720,3)\n",
    "img_rgb.shape"
   ]
  },
  {
   "cell_type": "code",
   "execution_count": 135,
   "metadata": {
    "ExecuteTime": {
     "end_time": "2018-03-23T20:20:04.626832Z",
     "start_time": "2018-03-23T20:20:04.589335Z"
    },
    "collapsed": true
   },
   "outputs": [],
   "source": [
    "# Convert the image to Greyscale\n",
    "img = rgb2gray(img_rgb)"
   ]
  },
  {
   "cell_type": "code",
   "execution_count": 136,
   "metadata": {
    "ExecuteTime": {
     "end_time": "2018-03-23T20:20:05.474408Z",
     "start_time": "2018-03-23T20:20:05.446990Z"
    }
   },
   "outputs": [
    {
     "data": {
      "text/plain": [
       "(480, 720)"
      ]
     },
     "execution_count": 136,
     "metadata": {},
     "output_type": "execute_result"
    }
   ],
   "source": [
    "# Check the shape and the removal of the RGB channels (480,720)\n",
    "img.shape"
   ]
  },
  {
   "cell_type": "code",
   "execution_count": 137,
   "metadata": {
    "ExecuteTime": {
     "end_time": "2018-03-23T20:20:06.926092Z",
     "start_time": "2018-03-23T20:20:06.896918Z"
    },
    "collapsed": true
   },
   "outputs": [],
   "source": [
    "# Create a list with all the column names\n",
    "col_names_coordinate = []\n",
    "i = 0\n",
    "while i < 5:\n",
    "    for x in range(5):\n",
    "        col_names_coordinate.append((i, x))\n",
    "    i += 1"
   ]
  },
  {
   "cell_type": "code",
   "execution_count": 138,
   "metadata": {
    "ExecuteTime": {
     "end_time": "2018-03-23T20:20:08.355154Z",
     "start_time": "2018-03-23T20:20:08.316617Z"
    }
   },
   "outputs": [
    {
     "data": {
      "text/html": [
       "<div>\n",
       "<style>\n",
       "    .dataframe thead tr:only-child th {\n",
       "        text-align: right;\n",
       "    }\n",
       "\n",
       "    .dataframe thead th {\n",
       "        text-align: left;\n",
       "    }\n",
       "\n",
       "    .dataframe tbody tr th {\n",
       "        vertical-align: top;\n",
       "    }\n",
       "</style>\n",
       "<table border=\"1\" class=\"dataframe\">\n",
       "  <thead>\n",
       "    <tr style=\"text-align: right;\">\n",
       "      <th></th>\n",
       "      <th>(0, 0)</th>\n",
       "      <th>(0, 1)</th>\n",
       "      <th>(0, 2)</th>\n",
       "      <th>(0, 3)</th>\n",
       "      <th>(0, 4)</th>\n",
       "      <th>(1, 0)</th>\n",
       "      <th>(1, 1)</th>\n",
       "      <th>(1, 2)</th>\n",
       "      <th>(1, 3)</th>\n",
       "      <th>(1, 4)</th>\n",
       "      <th>...</th>\n",
       "      <th>(3, 0)</th>\n",
       "      <th>(3, 1)</th>\n",
       "      <th>(3, 2)</th>\n",
       "      <th>(3, 3)</th>\n",
       "      <th>(3, 4)</th>\n",
       "      <th>(4, 0)</th>\n",
       "      <th>(4, 1)</th>\n",
       "      <th>(4, 2)</th>\n",
       "      <th>(4, 3)</th>\n",
       "      <th>(4, 4)</th>\n",
       "    </tr>\n",
       "  </thead>\n",
       "  <tbody>\n",
       "  </tbody>\n",
       "</table>\n",
       "<p>0 rows × 25 columns</p>\n",
       "</div>"
      ],
      "text/plain": [
       "Empty DataFrame\n",
       "Columns: [(0, 0), (0, 1), (0, 2), (0, 3), (0, 4), (1, 0), (1, 1), (1, 2), (1, 3), (1, 4), (2, 0), (2, 1), (2, 2), (2, 3), (2, 4), (3, 0), (3, 1), (3, 2), (3, 3), (3, 4), (4, 0), (4, 1), (4, 2), (4, 3), (4, 4)]\n",
       "Index: []\n",
       "\n",
       "[0 rows x 25 columns]"
      ]
     },
     "execution_count": 138,
     "metadata": {},
     "output_type": "execute_result"
    }
   ],
   "source": [
    "# Create a DataFrame to hold the output\n",
    "df = pd.DataFrame(columns=col_names_coordinate)\n",
    "df"
   ]
  },
  {
   "cell_type": "code",
   "execution_count": 139,
   "metadata": {
    "ExecuteTime": {
     "end_time": "2018-03-23T20:20:27.702234Z",
     "start_time": "2018-03-23T20:20:09.520525Z"
    },
    "collapsed": true
   },
   "outputs": [],
   "source": [
    "# Save all pixel values in the DataFrame based on the position of the 5x5 window\n",
    "df_row_number = 0\n",
    "for x in range(0, img.shape[0], 5):\n",
    "    for y in range(0, img.shape[1], 5):\n",
    "        top_left = (x, y)\n",
    "        bottom_right = (x+4, y+4)\n",
    "        new_row = []\n",
    "        for window_h in range(x, x+5):\n",
    "            for window_w in range(y, y+5):\n",
    "                new_row.append(img[window_h, window_w])\n",
    "        df.loc[df_row_number] = new_row\n",
    "        df_row_number += 1"
   ]
  },
  {
   "cell_type": "code",
   "execution_count": 140,
   "metadata": {
    "ExecuteTime": {
     "end_time": "2018-03-23T20:20:28.118587Z",
     "start_time": "2018-03-23T20:20:27.787422Z"
    },
    "collapsed": true
   },
   "outputs": [],
   "source": [
    "# Output the Dataframe to csv\n",
    "df.to_csv('output.csv')"
   ]
  },
  {
   "cell_type": "code",
   "execution_count": null,
   "metadata": {
    "collapsed": true
   },
   "outputs": [],
   "source": []
  }
 ],
 "metadata": {
  "kernelspec": {
   "display_name": "Python 3",
   "language": "python",
   "name": "python3"
  },
  "language_info": {
   "codemirror_mode": {
    "name": "ipython",
    "version": 3
   },
   "file_extension": ".py",
   "mimetype": "text/x-python",
   "name": "python",
   "nbconvert_exporter": "python",
   "pygments_lexer": "ipython3",
   "version": "3.6.3"
  },
  "toc": {
   "nav_menu": {},
   "number_sections": true,
   "sideBar": true,
   "skip_h1_title": false,
   "title_cell": "Table of Contents",
   "title_sidebar": "Contents",
   "toc_cell": true,
   "toc_position": {},
   "toc_section_display": true,
   "toc_window_display": false
  },
  "varInspector": {
   "cols": {
    "lenName": 16,
    "lenType": 16,
    "lenVar": 40
   },
   "kernels_config": {
    "python": {
     "delete_cmd_postfix": "",
     "delete_cmd_prefix": "del ",
     "library": "var_list.py",
     "varRefreshCmd": "print(var_dic_list())"
    },
    "r": {
     "delete_cmd_postfix": ") ",
     "delete_cmd_prefix": "rm(",
     "library": "var_list.r",
     "varRefreshCmd": "cat(var_dic_list()) "
    }
   },
   "types_to_exclude": [
    "module",
    "function",
    "builtin_function_or_method",
    "instance",
    "_Feature"
   ],
   "window_display": false
  }
 },
 "nbformat": 4,
 "nbformat_minor": 2
}
